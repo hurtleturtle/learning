{
 "cells": [
  {
   "cell_type": "markdown",
   "metadata": {},
   "source": [
    "# Command-line Arguments"
   ]
  },
  {
   "cell_type": "markdown",
   "metadata": {},
   "source": [
    "### Q3. The `get_args` Function\n",
    "Define a function called `get_args` that accepts no arguments. Inside the function, create a new instance of the `ArgumentParser` class and add the following arguments to it:\n",
    "- `-o, --output-file` (optional): The file to which to write the statement (default `statement.txt`)\n",
    "- `-p, --print` (optional): A switch indicating whether to print the statement to screen (default `False`)\n",
    "- `input-file` (required): The file from which to read customer data\n",
    "\n",
    "Return from the function the parsed arguments (*Hint: use the `parse_args` method*).\n",
    "\n",
    "**Stretch:**\n",
    "Allow multiple files to be given as the input-file. "
   ]
  },
  {
   "cell_type": "markdown",
   "metadata": {},
   "source": [
    "### Q4. Handling the arguments\n",
    "In the entrypoint (i.e. underneath the `if __name__ == '__main__':`) to the program, call the `get_args` function and assign it to a new variable called `args`. Use this `args` variable to get the input required for each of the calls to your `Customer` and `Statement` class. For example, read the customer/statement data from the input file by getting its filename like this: `...open(args.input_file, 'r')...`.\n",
    "\n",
    "All of the data that is currently statically defined in the entrypoint should be replaced with data from the command-line arguments."
   ]
  }
 ],
 "metadata": {
  "kernelspec": {
   "display_name": "Python 3",
   "language": "python",
   "name": "python3"
  },
  "language_info": {
   "codemirror_mode": {
    "name": "ipython",
    "version": 3
   },
   "file_extension": ".py",
   "mimetype": "text/x-python",
   "name": "python",
   "nbconvert_exporter": "python",
   "pygments_lexer": "ipython3",
   "version": "3.8.5"
  }
 },
 "nbformat": 4,
 "nbformat_minor": 4
}
